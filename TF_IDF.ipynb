{
  "nbformat": 4,
  "nbformat_minor": 0,
  "metadata": {
    "colab": {
      "name": "TF-IDF.ipynb",
      "provenance": [],
      "authorship_tag": "ABX9TyMmNCXuU9BxbXfQa5CF5LT7"
    },
    "kernelspec": {
      "name": "python3",
      "display_name": "Python 3"
    },
    "language_info": {
      "name": "python"
    }
  },
  "cells": [
    {
      "cell_type": "markdown",
      "source": [
        "Term Frequency – How frequently a term occurs in a text. It is measured as the number of times a term t appears in the text / Total number of words in the document\n",
        "\n",
        "Inverse Document Frequency – How important a word is in a document. It is measured as log(total number of sentences / Number of sentences with term t)"
      ],
      "metadata": {
        "id": "F5ydg0Dj7ifi"
      }
    },
    {
      "cell_type": "code",
      "execution_count": 2,
      "metadata": {
        "id": "NTuKScks47PO"
      },
      "outputs": [],
      "source": [
        "from nltk import tokenize\n",
        "from operator import itemgetter\n",
        "import math"
      ]
    },
    {
      "cell_type": "code",
      "source": [
        "doc = 'Specific visions for Web3 differ, and the term has been described by Bloomberg as hazy, but they revolve around the idea of decentralization and often incorporate blockchain technologies, such as various cryptocurrencies and non-fungible-tokens. Bloomberg has described Web3 as an idea that would build financial assets, in the form of tokens, into the inner workings of almost anything you do online. Some visions are based around the concept of decentralized-autonomous-organizations. Decentralized-finance is another key concept; in it, users exchange currency without bank or government involvement. Self-sovereign identity allows users to identify themselves without relying on an authentication system such as OAuth, in which a trusted party has to be reached in order to assess identity. Technology scholars have argued that Web3 would likely run in tandem with Web2 sites, with Web2 sites likely adopting Web3 technologies in order to keep their services relevant.'"
      ],
      "metadata": {
        "id": "kKnYxCL46Gmf"
      },
      "execution_count": 3,
      "outputs": []
    },
    {
      "cell_type": "code",
      "source": [
        "import nltk\n",
        "from nltk.corpus import stopwords\n",
        "from nltk.tokenize import word_tokenize "
      ],
      "metadata": {
        "id": "ukq3P2lp4-Pu"
      },
      "execution_count": 6,
      "outputs": []
    },
    {
      "cell_type": "code",
      "source": [
        "nltk.download('punkt')\n",
        "nltk.download('stopwords')"
      ],
      "metadata": {
        "colab": {
          "base_uri": "https://localhost:8080/"
        },
        "id": "-iEQUizh6vsm",
        "outputId": "41a00852-8070-4cff-8eb3-1e12e04fe1c8"
      },
      "execution_count": 7,
      "outputs": [
        {
          "output_type": "stream",
          "name": "stdout",
          "text": [
            "[nltk_data] Downloading package punkt to /root/nltk_data...\n",
            "[nltk_data]   Package punkt is already up-to-date!\n",
            "[nltk_data] Downloading package stopwords to /root/nltk_data...\n",
            "[nltk_data]   Package stopwords is already up-to-date!\n"
          ]
        },
        {
          "output_type": "execute_result",
          "data": {
            "text/plain": [
              "True"
            ]
          },
          "metadata": {},
          "execution_count": 7
        }
      ]
    },
    {
      "cell_type": "code",
      "source": [
        "stop_words = set(stopwords.words('english'))"
      ],
      "metadata": {
        "id": "Ix5n8dav6zl9"
      },
      "execution_count": 8,
      "outputs": []
    },
    {
      "cell_type": "markdown",
      "source": [
        "Count total number of words, including repetitions."
      ],
      "metadata": {
        "id": "9ZsO797y69_z"
      }
    },
    {
      "cell_type": "code",
      "source": [
        "total_words = doc.split()\n",
        "total_word_length = len(total_words)\n",
        "print(total_word_length)"
      ],
      "metadata": {
        "id": "9gmFkHEX4_t_"
      },
      "execution_count": null,
      "outputs": []
    },
    {
      "cell_type": "markdown",
      "source": [
        "Count total number of sentences."
      ],
      "metadata": {
        "id": "O9EwoeC77AJG"
      }
    },
    {
      "cell_type": "code",
      "source": [
        "total_sentences = tokenize.sent_tokenize(doc)\n",
        "total_sent_len = len(total_sentences)\n",
        "print(total_sent_len)"
      ],
      "metadata": {
        "id": "iFzcNWpN5B9s"
      },
      "execution_count": null,
      "outputs": []
    },
    {
      "cell_type": "markdown",
      "source": [
        "Create dictionary for each word and could occurance."
      ],
      "metadata": {
        "id": "UbOo94r75KFp"
      }
    },
    {
      "cell_type": "code",
      "source": [
        "tf_score = {}\n",
        "for each_word in total_words:\n",
        "\n",
        "    if each_word not in stop_words:\n",
        "        if each_word in tf_score:\n",
        "            tf_score[each_word] += 1\n",
        "        else:\n",
        "            tf_score[each_word] = 1"
      ],
      "metadata": {
        "id": "DyP50du25FMV"
      },
      "execution_count": 15,
      "outputs": []
    },
    {
      "cell_type": "markdown",
      "source": [
        "Dividing by total_word_length for each dictionary element"
      ],
      "metadata": {
        "id": "3YjVs4hw7r9r"
      }
    },
    {
      "cell_type": "code",
      "source": [
        "tf_score.update((x, y/int(total_word_length)) for x, y in tf_score.items())\n",
        "print(tf_score)"
      ],
      "metadata": {
        "colab": {
          "base_uri": "https://localhost:8080/"
        },
        "id": "KqRrt6mo5Oct",
        "outputId": "fa5f9624-a58e-401d-bbb4-d2c05c0bd684"
      },
      "execution_count": 16,
      "outputs": [
        {
          "output_type": "stream",
          "name": "stdout",
          "text": [
            "{'Specific': 0.006993006993006993, 'visions': 0.013986013986013986, 'Web3': 0.027972027972027972, 'differ,': 0.006993006993006993, 'term': 0.006993006993006993, 'described': 0.013986013986013986, 'Bloomberg': 0.013986013986013986, 'hazy,': 0.006993006993006993, 'revolve': 0.006993006993006993, 'around': 0.013986013986013986, 'idea': 0.013986013986013986, 'decentralization': 0.006993006993006993, 'often': 0.006993006993006993, 'incorporate': 0.006993006993006993, 'blockchain': 0.006993006993006993, 'technologies,': 0.006993006993006993, 'various': 0.006993006993006993, 'cryptocurrencies': 0.006993006993006993, 'non-fungible-tokens.': 0.006993006993006993, 'would': 0.013986013986013986, 'build': 0.006993006993006993, 'financial': 0.006993006993006993, 'assets,': 0.006993006993006993, 'form': 0.006993006993006993, 'tokens,': 0.006993006993006993, 'inner': 0.006993006993006993, 'workings': 0.006993006993006993, 'almost': 0.006993006993006993, 'anything': 0.006993006993006993, 'online.': 0.006993006993006993, 'Some': 0.006993006993006993, 'based': 0.006993006993006993, 'concept': 0.006993006993006993, 'decentralized-autonomous-organizations.': 0.006993006993006993, 'Decentralized-finance': 0.006993006993006993, 'another': 0.006993006993006993, 'key': 0.006993006993006993, 'concept;': 0.006993006993006993, 'it,': 0.006993006993006993, 'users': 0.013986013986013986, 'exchange': 0.006993006993006993, 'currency': 0.006993006993006993, 'without': 0.013986013986013986, 'bank': 0.006993006993006993, 'government': 0.006993006993006993, 'involvement.': 0.006993006993006993, 'Self-sovereign': 0.006993006993006993, 'identity': 0.006993006993006993, 'allows': 0.006993006993006993, 'identify': 0.006993006993006993, 'relying': 0.006993006993006993, 'authentication': 0.006993006993006993, 'system': 0.006993006993006993, 'OAuth,': 0.006993006993006993, 'trusted': 0.006993006993006993, 'party': 0.006993006993006993, 'reached': 0.006993006993006993, 'order': 0.013986013986013986, 'assess': 0.006993006993006993, 'identity.': 0.006993006993006993, 'Technology': 0.006993006993006993, 'scholars': 0.006993006993006993, 'argued': 0.006993006993006993, 'likely': 0.013986013986013986, 'run': 0.006993006993006993, 'tandem': 0.006993006993006993, 'Web2': 0.013986013986013986, 'sites,': 0.006993006993006993, 'sites': 0.006993006993006993, 'adopting': 0.006993006993006993, 'technologies': 0.006993006993006993, 'keep': 0.006993006993006993, 'services': 0.006993006993006993, 'relevant.': 0.006993006993006993}\n"
          ]
        }
      ]
    },
    {
      "cell_type": "markdown",
      "source": [
        "Function to check if word is in a sentence and extract sentences that satsify that criteria and return the length of that list."
      ],
      "metadata": {
        "id": "IO1eerty76FE"
      }
    },
    {
      "cell_type": "code",
      "source": [
        "def WordSent(word, sentences):\n",
        "    final = [all([w in x for w in word]) for x in sentences]\n",
        "    sent_len = [sentences[i] for i in range(0, len(final)) if final[i]]\n",
        "    return int(len(sent_len))"
      ],
      "metadata": {
        "id": "3PDFCqxC5Rzp"
      },
      "execution_count": 18,
      "outputs": []
    },
    {
      "cell_type": "code",
      "source": [
        "idf_score = {}\n",
        "for each_word in total_words:\n",
        "\n",
        "    if each_word not in stop_words:\n",
        "        if each_word in idf_score:\n",
        "            idf_score[each_word] = WordSent(each_word, total_sentences)\n",
        "        else:\n",
        "            idf_score[each_word] = 1\n",
        "\n",
        "# Performing a log and divide\n",
        "idf_score.update((x, math.log(int(total_sent_len)/y)) for x, y in idf_score.items())\n",
        "print(idf_score)"
      ],
      "metadata": {
        "colab": {
          "base_uri": "https://localhost:8080/"
        },
        "id": "pVs7R2y-8DzL",
        "outputId": "6a4cc70d-6b4a-42f1-e081-f90ae40eebb1"
      },
      "execution_count": 19,
      "outputs": [
        {
          "output_type": "stream",
          "name": "stdout",
          "text": [
            "{'Specific': 1.791759469228055, 'visions': 0.1823215567939546, 'Web3': 0.6931471805599453, 'differ,': 1.791759469228055, 'term': 1.791759469228055, 'described': 0.0, 'Bloomberg': 1.0986122886681098, 'hazy,': 1.791759469228055, 'revolve': 1.791759469228055, 'around': 0.0, 'idea': 0.0, 'decentralization': 1.791759469228055, 'often': 1.791759469228055, 'incorporate': 1.791759469228055, 'blockchain': 1.791759469228055, 'technologies,': 1.791759469228055, 'various': 1.791759469228055, 'cryptocurrencies': 1.791759469228055, 'non-fungible-tokens.': 1.791759469228055, 'would': 0.4054651081081644, 'build': 1.791759469228055, 'financial': 1.791759469228055, 'assets,': 1.791759469228055, 'form': 1.791759469228055, 'tokens,': 1.791759469228055, 'inner': 1.791759469228055, 'workings': 1.791759469228055, 'almost': 1.791759469228055, 'anything': 1.791759469228055, 'online.': 1.791759469228055, 'Some': 1.791759469228055, 'based': 1.791759469228055, 'concept': 1.791759469228055, 'decentralized-autonomous-organizations.': 1.791759469228055, 'Decentralized-finance': 1.791759469228055, 'another': 1.791759469228055, 'key': 1.791759469228055, 'concept;': 1.791759469228055, 'it,': 1.791759469228055, 'users': 0.0, 'exchange': 1.791759469228055, 'currency': 1.791759469228055, 'without': 0.4054651081081644, 'bank': 1.791759469228055, 'government': 1.791759469228055, 'involvement.': 1.791759469228055, 'Self-sovereign': 1.791759469228055, 'identity': 1.791759469228055, 'allows': 1.791759469228055, 'identify': 1.791759469228055, 'relying': 1.791759469228055, 'authentication': 1.791759469228055, 'system': 1.791759469228055, 'OAuth,': 1.791759469228055, 'trusted': 1.791759469228055, 'party': 1.791759469228055, 'reached': 1.791759469228055, 'order': 0.0, 'assess': 1.791759469228055, 'identity.': 1.791759469228055, 'Technology': 1.791759469228055, 'scholars': 1.791759469228055, 'argued': 1.791759469228055, 'likely': 0.4054651081081644, 'run': 1.791759469228055, 'tandem': 1.791759469228055, 'Web2': 1.791759469228055, 'sites,': 1.791759469228055, 'sites': 1.791759469228055, 'adopting': 1.791759469228055, 'technologies': 1.791759469228055, 'keep': 1.791759469228055, 'services': 1.791759469228055, 'relevant.': 1.791759469228055}\n"
          ]
        }
      ]
    },
    {
      "cell_type": "markdown",
      "source": [
        "Multiply each key of each list for the corresponding word together to obtain TF-IDF."
      ],
      "metadata": {
        "id": "pc2h5BN_8PtS"
      }
    },
    {
      "cell_type": "code",
      "source": [
        "tf_idf_score = {key: tf_score[key] * idf_score.get(key, 0) for key in tf_score.keys()}\n",
        "print(tf_idf_score)"
      ],
      "metadata": {
        "colab": {
          "base_uri": "https://localhost:8080/"
        },
        "id": "uXhlK5Xi8L7c",
        "outputId": "54e48dd4-ddda-4cc8-cab9-4023b947a1e9"
      },
      "execution_count": 20,
      "outputs": [
        {
          "output_type": "stream",
          "name": "stdout",
          "text": [
            "{'Specific': 0.012529786498098286, 'visions': 0.0025499518432720923, 'Web3': 0.019388732323355112, 'differ,': 0.012529786498098286, 'term': 0.012529786498098286, 'described': 0.0, 'Bloomberg': 0.015365206834519017, 'hazy,': 0.012529786498098286, 'revolve': 0.012529786498098286, 'around': 0.0, 'idea': 0.0, 'decentralization': 0.012529786498098286, 'often': 0.012529786498098286, 'incorporate': 0.012529786498098286, 'blockchain': 0.012529786498098286, 'technologies,': 0.012529786498098286, 'various': 0.012529786498098286, 'cryptocurrencies': 0.012529786498098286, 'non-fungible-tokens.': 0.012529786498098286, 'would': 0.0056708406728414595, 'build': 0.012529786498098286, 'financial': 0.012529786498098286, 'assets,': 0.012529786498098286, 'form': 0.012529786498098286, 'tokens,': 0.012529786498098286, 'inner': 0.012529786498098286, 'workings': 0.012529786498098286, 'almost': 0.012529786498098286, 'anything': 0.012529786498098286, 'online.': 0.012529786498098286, 'Some': 0.012529786498098286, 'based': 0.012529786498098286, 'concept': 0.012529786498098286, 'decentralized-autonomous-organizations.': 0.012529786498098286, 'Decentralized-finance': 0.012529786498098286, 'another': 0.012529786498098286, 'key': 0.012529786498098286, 'concept;': 0.012529786498098286, 'it,': 0.012529786498098286, 'users': 0.0, 'exchange': 0.012529786498098286, 'currency': 0.012529786498098286, 'without': 0.0056708406728414595, 'bank': 0.012529786498098286, 'government': 0.012529786498098286, 'involvement.': 0.012529786498098286, 'Self-sovereign': 0.012529786498098286, 'identity': 0.012529786498098286, 'allows': 0.012529786498098286, 'identify': 0.012529786498098286, 'relying': 0.012529786498098286, 'authentication': 0.012529786498098286, 'system': 0.012529786498098286, 'OAuth,': 0.012529786498098286, 'trusted': 0.012529786498098286, 'party': 0.012529786498098286, 'reached': 0.012529786498098286, 'order': 0.0, 'assess': 0.012529786498098286, 'identity.': 0.012529786498098286, 'Technology': 0.012529786498098286, 'scholars': 0.012529786498098286, 'argued': 0.012529786498098286, 'likely': 0.0056708406728414595, 'run': 0.012529786498098286, 'tandem': 0.012529786498098286, 'Web2': 0.025059572996196572, 'sites,': 0.012529786498098286, 'sites': 0.012529786498098286, 'adopting': 0.012529786498098286, 'technologies': 0.012529786498098286, 'keep': 0.012529786498098286, 'services': 0.012529786498098286, 'relevant.': 0.012529786498098286}\n"
          ]
        }
      ]
    },
    {
      "cell_type": "code",
      "source": [
        "def TopN(dict_elem, n):\n",
        "    result = dict(sorted(dict_elem.items(), key = itemgetter(1), reverse = True)[:n]) \n",
        "    return result"
      ],
      "metadata": {
        "id": "QyCAe-1d8VzN"
      },
      "execution_count": 21,
      "outputs": []
    },
    {
      "cell_type": "code",
      "source": [
        "print(TopN(tf_idf_score, 5))"
      ],
      "metadata": {
        "colab": {
          "base_uri": "https://localhost:8080/"
        },
        "id": "Wv6gqMTG8X-p",
        "outputId": "7452d63f-dd60-40f2-ab52-6e49ca00470f"
      },
      "execution_count": 23,
      "outputs": [
        {
          "output_type": "stream",
          "name": "stdout",
          "text": [
            "{'Web2': 0.025059572996196572, 'Web3': 0.019388732323355112, 'Bloomberg': 0.015365206834519017, 'Specific': 0.012529786498098286, 'differ,': 0.012529786498098286}\n"
          ]
        }
      ]
    }
  ]
}